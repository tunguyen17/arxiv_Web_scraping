{
 "cells": [
  {
   "cell_type": "markdown",
   "metadata": {},
   "source": [
    "\"alg-geom\" : Algebraic Geometry (math.AG) \n",
    "\n",
    "\"dg-ga\" : Differential Geometry (math.DG)\n",
    "\n",
    "\"q-alg\" : Quantum Algebra (math.QA)\n",
    "\n",
    "\"patt-sol\" : Pattern Formation and Solitons (nlin.PS); \n",
    "\n",
    "\"adap-org\" : Adaptation and Self-Organizing Systems (nlin.AO)\n",
    "\n",
    "\"solv-int\" : Exactly Solvable and Integrable Systems (nlin.SI) \n",
    "\n",
    "\"chao-dyn\" : Chaotic Dynamics (nlin.CD) \n",
    "\n",
    "\"comp-gas\" : Cellular Automata and Lattice Gases (nlin.CG) \n",
    "\n",
    "\"chem-ph\" : Chemical Physics (physics.chem-ph) \n",
    "\n",
    "\"mtrl-th\" : Materials Science (cond-mat.mtrl-sci)\n",
    "\n",
    "\"cmp-lg\" : Computation and Language (cs.CL)\n",
    "\n",
    "\"atom-ph\" : Atomic Physics (physics.atom-ph) \n",
    "\n",
    "\"funct-an\" : Functional Analysis (math.FA)\n",
    "\n",
    "\"acc-phys\" : Accelerator Physics (physics.acc-ph) "
   ]
  },
  {
   "cell_type": "code",
   "execution_count": 92,
   "metadata": {
    "collapsed": true
   },
   "outputs": [],
   "source": [
    "from bs4 import BeautifulSoup\n",
    "import urllib\n",
    "import urllib.request\n",
    "import io\n",
    "import re\n",
    "from math import floor\n",
    "import random\n",
    "\n",
    "def query_cat(cat):\n",
    "    '''\n",
    "    Query to find authors from a category\n",
    "    '''\n",
    "    url = \"http://export.arxiv.org/api/query?search_query=cat:\"+cat\n",
    "    u = urllib.request.urlopen(url, data = None)\n",
    "    f = io.TextIOWrapper(u,encoding='utf-8')\n",
    "    text = f.read()\n",
    "\n",
    "    # Using beautiful soup to read \n",
    "    soup = BeautifulSoup(text, 'xml')\n",
    "    \n",
    "    authors = [] # Initialize the list of authors\n",
    "        \n",
    "    for i in soup.findAll(\"author\"):\n",
    "        if not i in authors:\n",
    "            authors.append(i.find(\"name\").contents[0]) # Append to the list of authors       \n",
    "    return authors\n",
    "\n",
    "def query_au(author):\n",
    "    '''\n",
    "    Query to find the author's paper category\n",
    "    '''\n",
    "    \n",
    "    # MXL still use some of the old code, this dict help to correct it\n",
    "    correct_dict = {\"alg-geom\" : \"math\", \"dg-ga\" : \"math\", \"q-alg\" : \"math\", \"patt-sol\" : \"nlin\", \\\n",
    "               \"adap-org\" : \"nlin\", \"solv-int\" : \"nlin\", \"chao-dyn\" : \"nlin\", \"comp-gas\" : \"nlin\", \\\n",
    "               \"chem-ph\" : \"physics\", \"mtrl-th\" : \"cond-mat\", \"cmp-lg\" : \"cs\", \"atom-ph\" : \"physics\",\\\n",
    "               \"funct-an\" : \"math\", \"acc-phys\" : \"physics\"}\n",
    "    \n",
    "    url = \"http://export.arxiv.org/api/query?search_query=au:\"+author.replace(\" \", \"+\")\n",
    "\n",
    "    # Fetch the url's HTML code\n",
    "    u = urllib.request.urlopen(url, data = None)\n",
    "    f = io.TextIOWrapper(u,encoding='utf-8')\n",
    "    text = f.read()\n",
    "\n",
    "    # Using beautiful soup to read \n",
    "    soup = BeautifulSoup(text, 'xml')\n",
    "\n",
    "    cat_lst = []\n",
    "\n",
    "    for i in soup.findAll(\"entry\"):\n",
    "        # iterate through each paper\n",
    "\n",
    "    #     # Author part\n",
    "    #     au = [] # Initialize the list of authors\n",
    "    #     for j in i.findAll(\"author\"):\n",
    "    #         au.append(j.find(\"name\").contents[0]) # Append to the list of authors\n",
    "\n",
    "        # Paper part\n",
    "        # Get the primary category of each paper\n",
    "        try:\n",
    "            prim_cat = re.search(\"^(.+)\\.\", i.primary_category[\"term\"]).group(1)\n",
    "    #         print( i.primary_category[\"term\"])\n",
    "        except:\n",
    "            prim_cat = i.primary_category[\"term\"]\n",
    "        if(prim_cat in correct_dict.keys()):\n",
    "            cat_lst.append(correct_dict[prim_cat])\n",
    "        else:\n",
    "            cat_lst.append(prim_cat)\n",
    "\n",
    "    return cat_lst\n",
    "\n",
    "def list_sample(l, p = 0.1):\n",
    "    l = list(l)\n",
    "    return random.sample(l, int(len(l)*p))\n",
    "\n",
    "def flatten(l):\n",
    "    return [item for sublist in l for item in sublist]"
   ]
  },
  {
   "cell_type": "code",
   "execution_count": 93,
   "metadata": {
    "scrolled": false
   },
   "outputs": [],
   "source": [
    "# url = \"http://export.arxiv.org/api/query?search_query=au:Kenji+Kajiwara\"\n",
    "\n",
    "# # Fetch the url's HTML code\n",
    "# u = urllib.request.urlopen(url, data = None)\n",
    "# f = io.TextIOWrapper(u,encoding='utf-8')\n",
    "# text = f.read()\n",
    "\n",
    "# # Using beautiful soup to read \n",
    "# soup = BeautifulSoup(text, 'xml')\n",
    "# # soup"
   ]
  },
  {
   "cell_type": "markdown",
   "metadata": {},
   "source": [
    "# Note on arXiv API\n",
    "\n",
    "https://arxiv.org/help/api/user-manual#_query_interface\n",
    "\n",
    "http://export.arxiv.org/api/{method_name}?{parameters}\n",
    "\n",
    "method_name = query\n",
    "\n",
    "| Parameter    | Type                    |\n",
    "|--------------|-------------------------|\n",
    "| search_query | string                  |\n",
    "| id_list      |  comma-delimited string |\n",
    "| start        |  int                    |\n",
    "| max_results  | int                     |\n",
    "\n",
    "The parameter are connected using '&'\n",
    "\n",
    "\n",
    "http://export.arxiv.org/api/query?search_query=au:{author}\n",
    "\n",
    "\n",
    "| Prefix | Explanation       |\n",
    "|--------|-------------------|\n",
    "| ti     | Title             |\n",
    "| au     | Author            |\n",
    "| abs    | Abstract          |\n",
    "| co     | Comment           |\n",
    "| jr     | Journal Reference |\n",
    "| cat    | Subject Category  |\n",
    "| rn     | Report Number     |\n",
    "| all    | All of the above  |"
   ]
  },
  {
   "cell_type": "code",
   "execution_count": 94,
   "metadata": {
    "scrolled": false
   },
   "outputs": [],
   "source": [
    "# # Getting all the categories\n",
    "\n",
    "# # The URL\n",
    "# url = \"https://arxiv.org/help/api/user-manual#subject_classifications\"\n",
    "\n",
    "# # Fetch the url's HTML code\n",
    "# u = urllib.request.urlopen(url, data = None)\n",
    "# f = io.TextIOWrapper(u,encoding='utf-8')\n",
    "# text = f.read()\n",
    "\n",
    "# # Using beautiful soup to read \n",
    "# soup = BeautifulSoup(text, 'html.parser')\n",
    "\n",
    "# # Using beautiful soup to find all the table\n",
    "# table_lst = soup.findAll('table')\n",
    "\n",
    "# cat_lst_gen = [] # General category list\n",
    "# cat_lst_spe = [] # Specific category list\n",
    "# cat_dict = {}\n",
    "# for (index, specific) in enumerate(table_lst[-1].findAll(\"td\")):\n",
    "#     if(index%2 or index ==0):\n",
    "#         pass\n",
    "#     else:\n",
    "# #         print(index)\n",
    "#         # only get the abbreviation\n",
    "#         specific = specific.contents[0].strip()\n",
    "        \n",
    "#         try:\n",
    "#             general = re.search(\"^(.+)\\.\", specific).group(1)\n",
    "#         except:\n",
    "#             general = specific\n",
    "        \n",
    "#         if general in cat_dict.keys():\n",
    "#             if specific not in cat_dict[general]:\n",
    "#                 cat_dict[general].append(specific)\n",
    "#         else:\n",
    "#             cat_dict.update({general: [specific]})\n",
    "\n",
    "# # Manually add a new category\n",
    "# cat_dict.update({\"econ\" : [\"econ.EM\"]})\n",
    "# cat_dict.update({\"eess\" : [\"eess.AS\", \"eess.IV\", \"eess.SP\"]})\n",
    "# cat_dict.update({\"q-fin\" : [\"q-fin.CP\", \"q-fin.EC\", \"q-fin.GN\", \"q-fin.MF\", \"q-fin.PM\",\\\n",
    "#                                \"q-fin.PR\", \"q-fin.RM\", \"q-fin.ST\", \"q-fin.TR\"]})\n",
    "            \n",
    "# all_cat = [item for subcategory in cat_dict.values() for item in subcategory]"
   ]
  },
  {
   "cell_type": "code",
   "execution_count": 95,
   "metadata": {
    "collapsed": true
   },
   "outputs": [],
   "source": [
    "# cat_file = open(\"cat.csv\", 'w')\n",
    "\n",
    "# cat_file.write(\",\".join(cat_dict.keys()))\n",
    "\n",
    "# cat_file.close()"
   ]
  },
  {
   "cell_type": "code",
   "execution_count": 96,
   "metadata": {
    "collapsed": true
   },
   "outputs": [],
   "source": [
    "data_file = open(\"data.csv\", 'w')"
   ]
  },
  {
   "cell_type": "code",
   "execution_count": 97,
   "metadata": {
    "collapsed": true,
    "scrolled": false
   },
   "outputs": [],
   "source": [
    "author_list = []\n",
    "# fetch the list of authors\n",
    "for (i, cat) in enumerate(all_cat):\n",
    "    \n",
    "#     print(i+1, \" \", cat)\n",
    "    author_list.append(query_cat(cat))\n",
    "    \n",
    "author_list = set(flatten(author_list))"
   ]
  },
  {
   "cell_type": "code",
   "execution_count": 98,
   "metadata": {
    "collapsed": true
   },
   "outputs": [],
   "source": [
    "# fetch the list of papers\n",
    "header = \"Author,Fields\\n\" \n",
    "data_file.write(header)\n",
    "for (i, author) in enumerate(list_sample(author_list, p = 0.1)):\n",
    "    try:\n",
    "        line = author + ',' + \";\".join(query_au(author)) + \"\\n\"\n",
    "        data_file.write(line)\n",
    "#         data_file.write(\",\")\n",
    "#         data_file.write(\",\".join(query_au(author)))\n",
    "#         data_file.write(\"\\n\")\n",
    "    except:\n",
    "        pass\n",
    "\n",
    "data_file.close()"
   ]
  },
  {
   "cell_type": "code",
   "execution_count": null,
   "metadata": {
    "collapsed": true
   },
   "outputs": [],
   "source": []
  }
 ],
 "metadata": {
  "kernelspec": {
   "display_name": "Python 3",
   "language": "python",
   "name": "python3"
  },
  "language_info": {
   "codemirror_mode": {
    "name": "ipython",
    "version": 3
   },
   "file_extension": ".py",
   "mimetype": "text/x-python",
   "name": "python",
   "nbconvert_exporter": "python",
   "pygments_lexer": "ipython3",
   "version": "3.6.1"
  }
 },
 "nbformat": 4,
 "nbformat_minor": 2
}
