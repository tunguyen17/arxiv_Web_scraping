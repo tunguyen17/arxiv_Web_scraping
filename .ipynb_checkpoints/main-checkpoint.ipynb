{
 "cells": [
  {
   "cell_type": "markdown",
   "metadata": {},
   "source": [
    "\"alg-geom\" : Algebraic Geometry (math.AG) \n",
    "\n",
    "\"dg-ga\" : Differential Geometry (math.DG)\n",
    "\n",
    "\"q-alg\" : Quantum Algebra (math.QA)\n",
    "\n",
    "\"patt-sol\" : Pattern Formation and Solitons (nlin.PS); \n",
    "\n",
    "\"adap-org\" : Adaptation and Self-Organizing Systems (nlin.AO)\n",
    "\n",
    "\"solv-int\" : Exactly Solvable and Integrable Systems (nlin.SI) \n",
    "\n",
    "\"chao-dyn\" : Chaotic Dynamics (nlin.CD) \n",
    "\n",
    "\"comp-gas\" : Cellular Automata and Lattice Gases (nlin.CG) \n",
    "\n",
    "\"chem-ph\" : Chemical Physics (physics.chem-ph) \n",
    "\n",
    "\"mtrl-th\" : Materials Science (cond-mat.mtrl-sci)\n",
    "\n",
    "\"cmp-lg\" : Computation and Language (cs.CL)\n",
    "\n",
    "\"atom-ph\" : Atomic Physics (physics.atom-ph) \n",
    "\n",
    "\"funct-an\" : Functional Analysis (math.FA)\n",
    "\n",
    "\"acc-phys\" : Accelerator Physics (physics.acc-ph) "
   ]
  },
  {
   "cell_type": "code",
   "execution_count": 28,
   "metadata": {
    "collapsed": true
   },
   "outputs": [],
   "source": [
    "from bs4 import BeautifulSoup\n",
    "import urllib\n",
    "import urllib.request\n",
    "import io\n",
    "import re\n",
    "from math import floor\n",
    "import random\n",
    "import pandas as pd"
   ]
  },
  {
   "cell_type": "code",
   "execution_count": 20,
   "metadata": {
    "collapsed": true,
    "scrolled": false
   },
   "outputs": [],
   "source": [
    "def flatten(l):\n",
    "    return [item for sublist in l for item in sublist]\n",
    "\n",
    "def query_cat2(cat, max_res=500):\n",
    "    # MXL still use some of the old code, this dict help to correct it\n",
    "    correct_dict = {\"alg-geom\" : \"math\", \"dg-ga\" : \"math\", \"q-alg\" : \"math\", \"patt-sol\" : \"nlin\", \\\n",
    "                \"adap-org\" : \"nlin\", \"solv-int\" : \"nlin\", \"chao-dyn\" : \"nlin\", \"comp-gas\" : \"nlin\", \\\n",
    "                \"chem-ph\" : \"physics\", \"mtrl-th\" : \"cond-mat\", \"cmp-lg\" : \"cs\", \"atom-ph\" : \"physics\",\\\n",
    "                \"funct-an\" : \"math\", \"acc-phys\" : \"physics\", \"bayes-an\" : \"physics\"}\n",
    "\n",
    "    url = \"http://export.arxiv.org/api/query?search_query=cat:{}&max_results={}&sortBy=relevance&sortOrder=ascending\".format(cat,max_res)\n",
    "\n",
    "#     print(url)\n",
    "    # Fetch the url's HTML code\n",
    "    u = urllib.request.urlopen(url, data = None)\n",
    "    f = io.TextIOWrapper(u,encoding='utf-8')\n",
    "    text = f.read()\n",
    "\n",
    "    # Using beautiful soup to read \n",
    "    soup = BeautifulSoup(text, 'xml')\n",
    "\n",
    "    au_list = []\n",
    "    paper_lst = []\n",
    "    for i in soup.findAll(\"entry\"):\n",
    "        # iterate through each paper\n",
    "        title = i.title.contents[0]\n",
    "        paper_id = i.id.contents[0]\n",
    "\n",
    "        # Author part\n",
    "        au = [] # Initialize the list of authors\n",
    "        for j in i.findAll(\"author\"):\n",
    "            au.append(j.find(\"name\").contents[0]) # Append to the list of authors\n",
    "        au = \";\".join(au)\n",
    "\n",
    "        # Paper part\n",
    "        # Get the primary category of each paper\n",
    "        try:\n",
    "            prim_cat = re.search(\"^(.+)\\.\", i.primary_category[\"term\"]).group(1)\n",
    "    #         print( i.primary_category[\"term\"])\n",
    "        except:\n",
    "            prim_cat = i.primary_category[\"term\"]\n",
    "            \n",
    "        if(prim_cat in correct_dict.keys()):\n",
    "            prim_cat = correct_dict[prim_cat]\n",
    "            \n",
    "        paper_lst.append([paper_id, title, au, prim_cat])\n",
    "    return paper_lst"
   ]
  },
  {
   "cell_type": "code",
   "execution_count": 21,
   "metadata": {},
   "outputs": [
    {
     "data": {
      "text/plain": [
       "[['http://arxiv.org/abs/comp-gas/9302001v1',\n",
       "  'Some comments on the correlation dimension of $1/f^α$ noise',\n",
       "  'James Theiler',\n",
       "  'nlin'],\n",
       " ['http://arxiv.org/abs/comp-gas/9302002v1',\n",
       "  \"Statistical error in a chord estimator of correlation dimension: the\\n  ``rule of five''\",\n",
       "  'James Theiler;Turab Lookman',\n",
       "  'nlin'],\n",
       " ['http://arxiv.org/abs/comp-gas/9302003v2',\n",
       "  'Detecting Nonlinearity in Data with Long Coherence Times',\n",
       "  'James Theiler;Paul S. Linsay;David M. Rubin',\n",
       "  'nlin'],\n",
       " ['http://arxiv.org/abs/comp-gas/9303001v2',\n",
       "  'A Lattice Boltzmann Model for Multi-phase Fluid Flows',\n",
       "  'Daryl Grunau;Shiyi Chen;Kenneth Egger',\n",
       "  'nlin'],\n",
       " ['http://arxiv.org/abs/comp-gas/9303002v1',\n",
       "  'Message-Passing Multi-Cell Molecular Dynamics on the Connection Machine\\n  5',\n",
       "  'D. M. Beazley;P. S. Lomdahl',\n",
       "  'nlin']]"
      ]
     },
     "execution_count": 21,
     "metadata": {},
     "output_type": "execute_result"
    }
   ],
   "source": [
    "query_cat2(\"comp-gas\", 5)"
   ]
  },
  {
   "cell_type": "code",
   "execution_count": 23,
   "metadata": {
    "collapsed": true,
    "scrolled": false
   },
   "outputs": [],
   "source": [
    "# Getting all the categories\n",
    "\n",
    "# The URL\n",
    "url = \"https://arxiv.org/help/api/user-manual#subject_classifications\"\n",
    "\n",
    "# Fetch the url's HTML code\n",
    "u = urllib.request.urlopen(url, data = None)\n",
    "f = io.TextIOWrapper(u,encoding='utf-8')\n",
    "text = f.read()\n",
    "\n",
    "# Using beautiful soup to read \n",
    "soup = BeautifulSoup(text, 'html.parser')\n",
    "\n",
    "# Using beautiful soup to find all the table\n",
    "table_lst = soup.findAll('table')\n",
    "\n",
    "cat_lst_gen = [] # General category list\n",
    "cat_lst_spe = [] # Specific category list\n",
    "cat_dict = {}\n",
    "for (index, specific) in enumerate(table_lst[-1].findAll(\"td\")):\n",
    "    if(index%2 or index ==0):\n",
    "        pass\n",
    "    else:\n",
    "#         print(index)\n",
    "        # only get the abbreviation\n",
    "        specific = specific.contents[0].strip()\n",
    "        \n",
    "        try:\n",
    "            general = re.search(\"^(.+)\\.\", specific).group(1)\n",
    "        except:\n",
    "            general = specific\n",
    "        \n",
    "        if general in cat_dict.keys():\n",
    "            if specific not in cat_dict[general]:\n",
    "                cat_dict[general].append(specific)\n",
    "        else:\n",
    "            cat_dict.update({general: [specific]})\n",
    "\n",
    "# Manually add a new category\n",
    "cat_dict.update({\"econ\" : [\"econ.EM\"]})\n",
    "cat_dict.update({\"eess\" : [\"eess.AS\", \"eess.IV\", \"eess.SP\"]})\n",
    "cat_dict.update({\"q-fin\" : [\"q-fin.CP\", \"q-fin.EC\", \"q-fin.GN\", \"q-fin.MF\", \"q-fin.PM\",\\\n",
    "                               \"q-fin.PR\", \"q-fin.RM\", \"q-fin.ST\", \"q-fin.TR\"]})\n",
    "            \n",
    "all_cat = [item for subcategory in cat_dict.values() for item in subcategory]"
   ]
  },
  {
   "cell_type": "code",
   "execution_count": null,
   "metadata": {
    "scrolled": true
   },
   "outputs": [],
   "source": [
    "master_list = []\n",
    "# fetch the list of authors\n",
    "for (i, cat) in enumerate(all_cat):\n",
    "    master_list.append(query_cat2(cat, max_res=1000))\n",
    "\n",
    "master_list_flat = flatten(master_list)"
   ]
  },
  {
   "cell_type": "code",
   "execution_count": null,
   "metadata": {
    "scrolled": true
   },
   "outputs": [],
   "source": [
    "df = pd.DataFrame(master_list_flat, columns = [\"paper ID\", \"Title\", \"Authors\", \"Category\"])"
   ]
  },
  {
   "cell_type": "code",
   "execution_count": null,
   "metadata": {
    "collapsed": true
   },
   "outputs": [],
   "source": [
    "df.to_csv(\"data.csv\", index = False, encoding = \"utf-8\")"
   ]
  },
  {
   "cell_type": "code",
   "execution_count": null,
   "metadata": {
    "collapsed": true
   },
   "outputs": [],
   "source": []
  }
 ],
 "metadata": {
  "kernelspec": {
   "display_name": "Python 3",
   "language": "python",
   "name": "python3"
  },
  "language_info": {
   "codemirror_mode": {
    "name": "ipython",
    "version": 3
   },
   "file_extension": ".py",
   "mimetype": "text/x-python",
   "name": "python",
   "nbconvert_exporter": "python",
   "pygments_lexer": "ipython3",
   "version": "3.6.1"
  }
 },
 "nbformat": 4,
 "nbformat_minor": 2
}
