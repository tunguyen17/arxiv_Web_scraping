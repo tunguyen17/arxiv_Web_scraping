{
 "cells": [
  {
   "cell_type": "code",
   "execution_count": 48,
   "metadata": {
    "collapsed": true
   },
   "outputs": [],
   "source": [
    "from bs4 import BeautifulSoup\n",
    "import urllib\n",
    "import urllib.request\n",
    "import io\n"
   ]
  },
  {
   "cell_type": "code",
   "execution_count": 50,
   "metadata": {},
   "outputs": [],
   "source": [
    "url = \"https://arxiv.org/find/stat/1/au:+Young_S/0/1/0/all/0/1\"\n",
    "\n",
    "u = urllib.request.urlopen(url, data = None)\n",
    "f = io.TextIOWrapper(u,encoding='utf-8')\n",
    "text = f.read()\n",
    "\n",
    "soup = BeautifulSoup(text, 'html.parser')"
   ]
  },
  {
   "cell_type": "code",
   "execution_count": 51,
   "metadata": {},
   "outputs": [
    {
     "data": {
      "text/plain": [
       "[<span class=\"primary-subject\">Applications (stat.AP)</span>,\n",
       " <span class=\"primary-subject\">Applications (stat.AP)</span>,\n",
       " <span class=\"primary-subject\">Computation and Language (cs.CL)</span>,\n",
       " <span class=\"primary-subject\">Computation and Language (cs.CL)</span>,\n",
       " <span class=\"primary-subject\">Computation and Language (cs.CL)</span>,\n",
       " <span class=\"primary-subject\">Computation and Language (cs.CL)</span>,\n",
       " <span class=\"primary-subject\">Applications (stat.AP)</span>,\n",
       " <span class=\"primary-subject\">Applications (stat.AP)</span>,\n",
       " <span class=\"primary-subject\">Learning (cs.LG)</span>]"
      ]
     },
     "execution_count": 51,
     "metadata": {},
     "output_type": "execute_result"
    }
   ],
   "source": [
    "soup.find_all(attrs={'class': \"primary-subject\"})"
   ]
  },
  {
   "cell_type": "code",
   "execution_count": null,
   "metadata": {
    "collapsed": true
   },
   "outputs": [],
   "source": []
  }
 ],
 "metadata": {
  "kernelspec": {
   "display_name": "Python 3",
   "language": "python",
   "name": "python3"
  },
  "language_info": {
   "codemirror_mode": {
    "name": "ipython",
    "version": 3
   },
   "file_extension": ".py",
   "mimetype": "text/x-python",
   "name": "python",
   "nbconvert_exporter": "python",
   "pygments_lexer": "ipython3",
   "version": "3.6.3"
  }
 },
 "nbformat": 4,
 "nbformat_minor": 2
}
