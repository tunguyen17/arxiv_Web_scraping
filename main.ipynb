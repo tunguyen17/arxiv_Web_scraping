{
 "cells": [
  {
   "cell_type": "code",
   "execution_count": 31,
   "metadata": {
    "collapsed": true
   },
   "outputs": [],
   "source": [
    "from bs4 import BeautifulSoup\n",
    "import urllib\n",
    "import urllib.request\n",
    "import io\n",
    "import re\n",
    "from math import floor\n",
    "import random\n",
    "\n",
    "def query_cat(cat):\n",
    "    '''\n",
    "    Query to find authors from a category\n",
    "    '''\n",
    "    url = \"http://export.arxiv.org/api/query?search_query=cat:\"+cat\n",
    "    u = urllib.request.urlopen(url, data = None)\n",
    "    f = io.TextIOWrapper(u,encoding='utf-8')\n",
    "    text = f.read()\n",
    "\n",
    "    # Using beautiful soup to read \n",
    "    soup = BeautifulSoup(text, 'xml')\n",
    "    \n",
    "    authors = [] # Initialize the list of authors\n",
    "        \n",
    "    for i in soup.findAll(\"author\"):\n",
    "        if not i in authors:\n",
    "            authors.append(i.find(\"name\").contents[0]) # Append to the list of authors       \n",
    "    return authors\n",
    "\n",
    "def query_au(author):\n",
    "    '''\n",
    "    Query to find the author's paper category\n",
    "    '''\n",
    "    \n",
    "    url = \"http://export.arxiv.org/api/query?search_query=au:\"+author.replace(\" \", \"+\")\n",
    "\n",
    "    # Fetch the url's HTML code\n",
    "    u = urllib.request.urlopen(url, data = None)\n",
    "    f = io.TextIOWrapper(u,encoding='utf-8')\n",
    "    text = f.read()\n",
    "\n",
    "    # Using beautiful soup to read \n",
    "    soup = BeautifulSoup(text, 'xml')\n",
    "\n",
    "    cat_lst = []\n",
    "\n",
    "    for i in soup.findAll(\"entry\"):\n",
    "        # iterate through each paper\n",
    "\n",
    "    #     # Author part\n",
    "    #     au = [] # Initialize the list of authors\n",
    "    #     for j in i.findAll(\"author\"):\n",
    "    #         au.append(j.find(\"name\").contents[0]) # Append to the list of authors\n",
    "\n",
    "        # Paper part\n",
    "        # Get the primary category of each paper\n",
    "        try:\n",
    "            prim_cat = re.search(\"^(.+)\\.\", i.primary_category[\"term\"]).group(1)\n",
    "    #         print( i.primary_category[\"term\"])\n",
    "        except:\n",
    "            prim_cat = i.primary_category[\"term\"]\n",
    "\n",
    "        cat_lst.append(prim_cat)\n",
    "\n",
    "    return cat_lst\n",
    "\n",
    "def list_sample(l, p = 0.1):\n",
    "    l = list(l)\n",
    "    return random.sample(l, int(len(l)*p))\n",
    "\n",
    "def flatten(l):\n",
    "    return [item for sublist in l for item in sublist]"
   ]
  },
  {
   "cell_type": "code",
   "execution_count": 40,
   "metadata": {},
   "outputs": [
    {
     "data": {
      "text/plain": [
       "['Iván Fernández-Val',\n",
       " 'Martin Weidner',\n",
       " 'Johan Vikström',\n",
       " 'Geert Ridder',\n",
       " 'Martin Weidner',\n",
       " 'Yu-Wei Hsieh',\n",
       " 'Xiaoxia Shi',\n",
       " 'Matthew Shum',\n",
       " 'Ismael Mourifie',\n",
       " 'Marc Henry',\n",
       " 'Romuald Meango',\n",
       " 'Manjesh K. Hanawal',\n",
       " 'Shashank Mishra',\n",
       " 'Yezekael Hayel',\n",
       " 'Victor Chernozhukov',\n",
       " 'Alfred Galichon',\n",
       " 'Marc Henry',\n",
       " 'Brendan Pass',\n",
       " 'Theodoros Chatzivasileiadis',\n",
       " 'Ida Johnsson',\n",
       " 'Hyungsik Roger Moon',\n",
       " 'Laura Liu',\n",
       " 'Hyungsik Roger Moon',\n",
       " 'Frank Schorfheide',\n",
       " 'Eleonora Granziera',\n",
       " 'Hyungsik Roger Moon',\n",
       " 'Frank Schorfheide']"
      ]
     },
     "execution_count": 40,
     "metadata": {},
     "output_type": "execute_result"
    }
   ],
   "source": [
    "query_cat(\"econ.EM\")"
   ]
  },
  {
   "cell_type": "code",
   "execution_count": 36,
   "metadata": {
    "scrolled": false
   },
   "outputs": [],
   "source": [
    "url = \"http://export.arxiv.org/api/query?search_query=au:Stefan+Johansson\"\n",
    "\n",
    "# Fetch the url's HTML code\n",
    "u = urllib.request.urlopen(url, data = None)\n",
    "f = io.TextIOWrapper(u,encoding='utf-8')\n",
    "text = f.read()\n",
    "\n",
    "# Using beautiful soup to read \n",
    "soup = BeautifulSoup(text, 'xml')\n",
    "# soup"
   ]
  },
  {
   "cell_type": "markdown",
   "metadata": {},
   "source": [
    "# Note on arXiv API\n",
    "\n",
    "https://arxiv.org/help/api/user-manual#_query_interface\n",
    "\n",
    "http://export.arxiv.org/api/{method_name}?{parameters}\n",
    "\n",
    "method_name = query\n",
    "\n",
    "| Parameter    | Type                    |\n",
    "|--------------|-------------------------|\n",
    "| search_query | string                  |\n",
    "| id_list      |  comma-delimited string |\n",
    "| start        |  int                    |\n",
    "| max_results  | int                     |\n",
    "\n",
    "The parameter are connected using '&'\n",
    "\n",
    "\n",
    "http://export.arxiv.org/api/query?search_query=au:{author}\n",
    "\n",
    "\n",
    "| Prefix | Explanation       |\n",
    "|--------|-------------------|\n",
    "| ti     | Title             |\n",
    "| au     | Author            |\n",
    "| abs    | Abstract          |\n",
    "| co     | Comment           |\n",
    "| jr     | Journal Reference |\n",
    "| cat    | Subject Category  |\n",
    "| rn     | Report Number     |\n",
    "| all    | All of the above  |"
   ]
  },
  {
   "cell_type": "code",
   "execution_count": 4,
   "metadata": {
    "scrolled": false
   },
   "outputs": [],
   "source": [
    "# Getting all the categories\n",
    "\n",
    "# The URL\n",
    "url = \"https://arxiv.org/help/api/user-manual#subject_classifications\"\n",
    "\n",
    "# Fetch the url's HTML code\n",
    "u = urllib.request.urlopen(url, data = None)\n",
    "f = io.TextIOWrapper(u,encoding='utf-8')\n",
    "text = f.read()\n",
    "\n",
    "# Using beautiful soup to read \n",
    "soup = BeautifulSoup(text, 'html.parser')\n",
    "\n",
    "# Using beautiful soup to find all the table\n",
    "table_lst = soup.findAll('table')\n",
    "\n",
    "cat_lst_gen = [] # General category list\n",
    "cat_lst_spe = [] # Specific category list\n",
    "cat_dict = {}\n",
    "for (index, specific) in enumerate(table_lst[-1].findAll(\"td\")):\n",
    "    if(index%2 or index ==0):\n",
    "        pass\n",
    "    else:\n",
    "#         print(index)\n",
    "        # only get the abbreviation\n",
    "        specific = specific.contents[0].strip()\n",
    "        \n",
    "        try:\n",
    "            general = re.search(\"^(.+)\\.\", specific).group(1)\n",
    "        except:\n",
    "            general = specific\n",
    "        \n",
    "        if general in cat_dict.keys():\n",
    "            if specific not in cat_dict[general]:\n",
    "                cat_dict[general].append(specific)\n",
    "        else:\n",
    "            cat_dict.update({general: [specific]})\n",
    "            \n",
    "all_cat = [item for subcategory in cat_dict.values() for item in subcategory]"
   ]
  },
  {
   "cell_type": "code",
   "execution_count": 37,
   "metadata": {},
   "outputs": [
    {
     "data": {
      "text/plain": [
       "dict_keys(['stat', 'q-bio', 'cs', 'nlin', 'math', 'astro-ph', 'cond-mat', 'gr-qc', 'hep-ex', 'hep-lat', 'hep-ph', 'hep-th', 'math-ph', 'nucl-ex', 'nucl-th', 'physics', 'quant-ph'])"
      ]
     },
     "execution_count": 37,
     "metadata": {},
     "output_type": "execute_result"
    }
   ],
   "source": [
    "cat_dict.keys()"
   ]
  },
  {
   "cell_type": "code",
   "execution_count": 30,
   "metadata": {
    "scrolled": false
   },
   "outputs": [
    {
     "data": {
      "text/plain": [
       "{'astro-ph': ['astro-ph'],\n",
       " 'cond-mat': ['cond-mat.dis-nn',\n",
       "  'cond-mat.mes-hall',\n",
       "  'cond-mat.mtrl-sci',\n",
       "  'cond-mat.other',\n",
       "  'cond-mat.soft',\n",
       "  'cond-mat.stat-mech',\n",
       "  'cond-mat.str-el',\n",
       "  'cond-mat.supr-con'],\n",
       " 'cs': ['cs.AR',\n",
       "  'cs.AI',\n",
       "  'cs.CL',\n",
       "  'cs.CC',\n",
       "  'cs.CE',\n",
       "  'cs.CG',\n",
       "  'cs.GT',\n",
       "  'cs.CV',\n",
       "  'cs.CY',\n",
       "  'cs.CR',\n",
       "  'cs.DS',\n",
       "  'cs.DB',\n",
       "  'cs.DL',\n",
       "  'cs.DM',\n",
       "  'cs.DC',\n",
       "  'cs.GL',\n",
       "  'cs.GR',\n",
       "  'cs.HC',\n",
       "  'cs.IR',\n",
       "  'cs.IT',\n",
       "  'cs.LG',\n",
       "  'cs.LO',\n",
       "  'cs.MS',\n",
       "  'cs.MA',\n",
       "  'cs.MM',\n",
       "  'cs.NI',\n",
       "  'cs.NE',\n",
       "  'cs.NA',\n",
       "  'cs.OS',\n",
       "  'cs.OH',\n",
       "  'cs.PF',\n",
       "  'cs.PL',\n",
       "  'cs.RO',\n",
       "  'cs.SE',\n",
       "  'cs.SD',\n",
       "  'cs.SC'],\n",
       " 'gr-qc': ['gr-qc'],\n",
       " 'hep-ex': ['hep-ex'],\n",
       " 'hep-lat': ['hep-lat'],\n",
       " 'hep-ph': ['hep-ph'],\n",
       " 'hep-th': ['hep-th'],\n",
       " 'math': ['math.AG',\n",
       "  'math.AT',\n",
       "  'math.AP',\n",
       "  'math.CT',\n",
       "  'math.CA',\n",
       "  'math.CO',\n",
       "  'math.AC',\n",
       "  'math.CV',\n",
       "  'math.DG',\n",
       "  'math.DS',\n",
       "  'math.FA',\n",
       "  'math.GM',\n",
       "  'math.GN',\n",
       "  'math.GT',\n",
       "  'math.GR',\n",
       "  'math.HO',\n",
       "  'math.IT',\n",
       "  'math.KT',\n",
       "  'math.LO',\n",
       "  'math.MP',\n",
       "  'math.MG',\n",
       "  'math.NT',\n",
       "  'math.NA',\n",
       "  'math.OA',\n",
       "  'math.OC',\n",
       "  'math.PR',\n",
       "  'math.QA',\n",
       "  'math.RT',\n",
       "  'math.RA',\n",
       "  'math.SP',\n",
       "  'math.ST',\n",
       "  'math.SG'],\n",
       " 'math-ph': ['math-ph'],\n",
       " 'nlin': ['nlin.AO', 'nlin.CG', 'nlin.CD', 'nlin.SI', 'nlin.PS'],\n",
       " 'nucl-ex': ['nucl-ex'],\n",
       " 'nucl-th': ['nucl-th'],\n",
       " 'physics': ['physics.acc-ph',\n",
       "  'physics.ao-ph',\n",
       "  'physics.atom-ph',\n",
       "  'physics.atm-clus',\n",
       "  'physics.bio-ph',\n",
       "  'physics.chem-ph',\n",
       "  'physics.class-ph',\n",
       "  'physics.comp-ph',\n",
       "  'physics.data-an',\n",
       "  'physics.flu-dyn',\n",
       "  'physics.gen-ph',\n",
       "  'physics.geo-ph',\n",
       "  'physics.hist-ph',\n",
       "  'physics.ins-det',\n",
       "  'physics.med-ph',\n",
       "  'physics.optics',\n",
       "  'physics.ed-ph',\n",
       "  'physics.soc-ph',\n",
       "  'physics.plasm-ph',\n",
       "  'physics.pop-ph',\n",
       "  'physics.space-ph'],\n",
       " 'q-bio': ['q-bio.BM',\n",
       "  'q-bio.CB',\n",
       "  'q-bio.GN',\n",
       "  'q-bio.MN',\n",
       "  'q-bio.NC',\n",
       "  'q-bio.OT',\n",
       "  'q-bio.PE',\n",
       "  'q-bio.QM',\n",
       "  'q-bio.SC',\n",
       "  'q-bio.TO'],\n",
       " 'quant-ph': ['quant-ph'],\n",
       " 'stat': ['stat.AP', 'stat.CO', 'stat.ML', 'stat.ME', 'stat.TH']}"
      ]
     },
     "execution_count": 30,
     "metadata": {},
     "output_type": "execute_result"
    }
   ],
   "source": [
    "cat_dict"
   ]
  },
  {
   "cell_type": "code",
   "execution_count": 28,
   "metadata": {},
   "outputs": [],
   "source": [
    "cat_file = open(\"cat.csv\", 'w')\n",
    "\n",
    "cat_file.write(\",\".join(cat_dict.keys()))\n",
    "\n",
    "cat_file.close()"
   ]
  },
  {
   "cell_type": "code",
   "execution_count": 5,
   "metadata": {
    "collapsed": true,
    "scrolled": true
   },
   "outputs": [],
   "source": [
    "# au = []\n",
    "# for i in all_cat[:10]:\n",
    "#     au.append(query_cat(i))\n",
    "    \n",
    "# au_lst = [author for sublist in au for author in sublist]"
   ]
  },
  {
   "cell_type": "code",
   "execution_count": 23,
   "metadata": {
    "collapsed": true
   },
   "outputs": [],
   "source": [
    "data_file = open(\"data.csv\", 'w')"
   ]
  },
  {
   "cell_type": "code",
   "execution_count": 18,
   "metadata": {
    "scrolled": false
   },
   "outputs": [],
   "source": [
    "author_list = []\n",
    "# fetch the list of authors\n",
    "for (i, cat) in enumerate(all_cat):\n",
    "    \n",
    "#     print(i+1, \" \", cat)\n",
    "    author_list.append(query_cat(cat))\n",
    "    \n",
    "author_list = set(flatten(author_list))"
   ]
  },
  {
   "cell_type": "code",
   "execution_count": 24,
   "metadata": {},
   "outputs": [],
   "source": [
    "# fetch the list of papers\n",
    "header = \"Author,Fields\\n\" \n",
    "data_file.write(header)\n",
    "for (i, author) in enumerate(list_sample(author_list, p = 0.1)):\n",
    "    try:\n",
    "        line = author + ',' + \";\".join(query_au(author)) + \"\\n\"\n",
    "        data_file.write(line)\n",
    "#         data_file.write(\",\")\n",
    "#         data_file.write(\",\".join(query_au(author)))\n",
    "#         data_file.write(\"\\n\")\n",
    "    except:\n",
    "        pass\n",
    "\n",
    "data_file.close()"
   ]
  },
  {
   "cell_type": "code",
   "execution_count": null,
   "metadata": {
    "collapsed": true
   },
   "outputs": [],
   "source": []
  }
 ],
 "metadata": {
  "kernelspec": {
   "display_name": "Python 3",
   "language": "python",
   "name": "python3"
  },
  "language_info": {
   "codemirror_mode": {
    "name": "ipython",
    "version": 3
   },
   "file_extension": ".py",
   "mimetype": "text/x-python",
   "name": "python",
   "nbconvert_exporter": "python",
   "pygments_lexer": "ipython3",
   "version": "3.6.3"
  }
 },
 "nbformat": 4,
 "nbformat_minor": 2
}
