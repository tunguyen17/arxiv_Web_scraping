{
 "cells": [
  {
   "cell_type": "markdown",
   "metadata": {},
   "source": [
    "\"alg-geom\" : Algebraic Geometry (math.AG) \n",
    "\n",
    "\"dg-ga\" : Differential Geometry (math.DG)\n",
    "\n",
    "\"q-alg\" : Quantum Algebra (math.QA)\n",
    "\n",
    "\"patt-sol\" : Pattern Formation and Solitons (nlin.PS); \n",
    "\n",
    "\"adap-org\" : Adaptation and Self-Organizing Systems (nlin.AO)\n",
    "\n",
    "\"solv-int\" : Exactly Solvable and Integrable Systems (nlin.SI) \n",
    "\n",
    "\"chao-dyn\" : Chaotic Dynamics (nlin.CD) \n",
    "\n",
    "\"comp-gas\" : Cellular Automata and Lattice Gases (nlin.CG) \n",
    "\n",
    "\"chem-ph\" : Chemical Physics (physics.chem-ph) \n",
    "\n",
    "\"mtrl-th\" : Materials Science (cond-mat.mtrl-sci)\n",
    "\n",
    "\"cmp-lg\" : Computation and Language (cs.CL)\n",
    "\n",
    "\"atom-ph\" : Atomic Physics (physics.atom-ph) \n",
    "\n",
    "\"funct-an\" : Functional Analysis (math.FA)\n",
    "\n",
    "\"acc-phys\" : Accelerator Physics (physics.acc-ph) "
   ]
  },
  {
   "cell_type": "code",
   "execution_count": 2,
   "metadata": {
    "collapsed": true
   },
   "outputs": [],
   "source": [
    "from bs4 import BeautifulSoup\n",
    "import urllib\n",
    "import urllib.request\n",
    "import io\n",
    "import re\n",
    "from math import floor\n",
    "import random\n",
    "import pandas as pd"
   ]
  },
  {
   "cell_type": "code",
   "execution_count": 3,
   "metadata": {
    "collapsed": true
   },
   "outputs": [],
   "source": [
    "base_url = \"http://export.arxiv.org/oai2?verb=ListRecords&\"\n",
    "url = base_url + \"set={}&metadataPrefix=arXiv\".format(\"math\")"
   ]
  },
  {
   "cell_type": "code",
   "execution_count": 4,
   "metadata": {
    "collapsed": true
   },
   "outputs": [],
   "source": [
    "u = urllib.request.urlopen(url, data = None)\n",
    "f = io.TextIOWrapper(u,encoding='utf-8')\n",
    "text = f.read()"
   ]
  },
  {
   "cell_type": "code",
   "execution_count": 5,
   "metadata": {
    "collapsed": true
   },
   "outputs": [],
   "source": [
    "soup = BeautifulSoup(text, 'xml')"
   ]
  },
  {
   "cell_type": "code",
   "execution_count": 6,
   "metadata": {
    "collapsed": true,
    "scrolled": true
   },
   "outputs": [],
   "source": [
    "a = [i for i in soup.findAll(\"record\")]"
   ]
  },
  {
   "cell_type": "code",
   "execution_count": 7,
   "metadata": {
    "collapsed": true
   },
   "outputs": [],
   "source": [
    "record = a[0]"
   ]
  },
  {
   "cell_type": "code",
   "execution_count": 8,
   "metadata": {
    "collapsed": true
   },
   "outputs": [],
   "source": [
    "paper_id = record.find(\"identifier\").text\n",
    "date = record.find(\"created\").text\n",
    "title = record.find(\"title\").text\n",
    "authors = \";\".join([author.get_text(\" \") for author in record.findAll(\"author\")])\n",
    "category = record.find(\"setSpec\").text"
   ]
  },
  {
   "cell_type": "code",
   "execution_count": 9,
   "metadata": {},
   "outputs": [
    {
     "data": {
      "text/plain": [
       "'oai:arXiv.org:0704.0002'"
      ]
     },
     "execution_count": 9,
     "metadata": {},
     "output_type": "execute_result"
    }
   ],
   "source": [
    "paper_id"
   ]
  },
  {
   "cell_type": "code",
   "execution_count": 50,
   "metadata": {},
   "outputs": [
    {
     "name": "stdout",
     "output_type": "stream",
     "text": [
      "Streinu Ileana\n",
      "Theran Louis\n"
     ]
    }
   ],
   "source": [
    "for au in a[0].findAll(\"author\"):\n",
    "    print()"
   ]
  },
  {
   "cell_type": "code",
   "execution_count": 20,
   "metadata": {},
   "outputs": [
    {
     "data": {
      "text/plain": [
       "<record>\n",
       "<header>\n",
       "<identifier>oai:arXiv.org:0704.0002</identifier>\n",
       "<datestamp>2008-12-13</datestamp>\n",
       "<setSpec>math</setSpec>\n",
       "</header>\n",
       "<metadata>\n",
       "<arXiv xsi:schemaLocation=\"http://arxiv.org/OAI/arXiv/ http://arxiv.org/OAI/arXiv.xsd\">\n",
       "<id>0704.0002</id><created>2007-03-30</created><updated>2008-12-13</updated><authors><author><keyname>Streinu</keyname><forenames>Ileana</forenames></author><author><keyname>Theran</keyname><forenames>Louis</forenames></author></authors><title>Sparsity-certifying Graph Decompositions</title><categories>math.CO cs.CG</categories><comments>To appear in Graphs and Combinatorics</comments><msc-class>05C85; 05C70; 68R10; 05B35</msc-class><license>http://arxiv.org/licenses/nonexclusive-distrib/1.0/</license><abstract>  We describe a new algorithm, the $(k,\\ell)$-pebble game with colors, and use\n",
       "it obtain a characterization of the family of $(k,\\ell)$-sparse graphs and\n",
       "algorithmic solutions to a family of problems concerning tree decompositions of\n",
       "graphs. Special instances of sparse graphs appear in rigidity theory and have\n",
       "received increased attention in recent years. In particular, our colored\n",
       "pebbles generalize and strengthen the previous results of Lee and Streinu and\n",
       "give a new proof of the Tutte-Nash-Williams characterization of arboricity. We\n",
       "also present a new decomposition that certifies sparsity based on the\n",
       "$(k,\\ell)$-pebble game with colors. Our work also exposes connections between\n",
       "pebble game algorithms and previous sparse graph algorithms by Gabow, Gabow and\n",
       "Westermann and Hendrickson.\n",
       "</abstract></arXiv>\n",
       "</metadata>\n",
       "</record>"
      ]
     },
     "execution_count": 20,
     "metadata": {},
     "output_type": "execute_result"
    }
   ],
   "source": [
    "a[0]"
   ]
  },
  {
   "cell_type": "code",
   "execution_count": null,
   "metadata": {
    "collapsed": true
   },
   "outputs": [],
   "source": []
  }
 ],
 "metadata": {
  "kernelspec": {
   "display_name": "Python 3",
   "language": "python",
   "name": "python3"
  },
  "language_info": {
   "codemirror_mode": {
    "name": "ipython",
    "version": 3
   },
   "file_extension": ".py",
   "mimetype": "text/x-python",
   "name": "python",
   "nbconvert_exporter": "python",
   "pygments_lexer": "ipython3",
   "version": "3.6.3"
  }
 },
 "nbformat": 4,
 "nbformat_minor": 2
}
